{
 "cells": [
  {
   "cell_type": "code",
   "execution_count": 1,
   "id": "d4547f67",
   "metadata": {},
   "outputs": [],
   "source": [
    "import numpy as np\n",
    "import pandas as pd\n",
    "import matplotlib.pyplot as plt"
   ]
  },
  {
   "cell_type": "code",
   "execution_count": 2,
   "id": "71c2fe2c",
   "metadata": {},
   "outputs": [],
   "source": [
    "data = pd.read_csv('musteriler.csv')"
   ]
  },
  {
   "cell_type": "code",
   "execution_count": 3,
   "id": "31bf677e",
   "metadata": {},
   "outputs": [],
   "source": [
    "X = data.iloc[:,3:].values"
   ]
  },
  {
   "cell_type": "code",
   "execution_count": 4,
   "id": "840b78ce",
   "metadata": {},
   "outputs": [
    {
     "data": {
      "text/plain": [
       "array([[ 69900,   6325],\n",
       "       [ 79000,   5200],\n",
       "       [ 85500,   7825],\n",
       "       [ 17100,   8375],\n",
       "       [  5500,   5450],\n",
       "       [ 27200,   8550],\n",
       "       [ 20500,   4500],\n",
       "       [ 69000,   5050],\n",
       "       [ 13200,   8325],\n",
       "       [ 31800,   5975],\n",
       "       [ 59200,   5700],\n",
       "       [ 95800,   6475],\n",
       "       [ 46200,   3850],\n",
       "       [ 29800,   4100],\n",
       "       [ 83000,   8125],\n",
       "       [143500,   8650],\n",
       "       [ 91300,   5125],\n",
       "       [  9800,   3950],\n",
       "       [ 79500,   5325],\n",
       "       [ 66400,   5775],\n",
       "       [ 25900,   3400],\n",
       "       [     0,   7075],\n",
       "       [ 90900,   5725],\n",
       "       [ 51800,   4300],\n",
       "       [126800,   7500],\n",
       "       [ 40800,   5000],\n",
       "       [ 26400,   5325],\n",
       "       [ 76100,   5350],\n",
       "       [ 26500,   2600],\n",
       "       [ 37200,   6250],\n",
       "       [  4000,   3075],\n",
       "       [ 34500,   4875],\n",
       "       [ 47100,   5525],\n",
       "       [ 95600,   7225],\n",
       "       [ 35400,   5275],\n",
       "       [ 41100,   6050],\n",
       "       [ 46400,   3425],\n",
       "       [ 10400,   4600],\n",
       "       [ 50100,   4575],\n",
       "       [111300,   8525],\n",
       "       [102700,   8100],\n",
       "       [ 23700,   4725],\n",
       "       [ 84300,   7425],\n",
       "       [ 14800,   6200],\n",
       "       [  6400,   5875],\n",
       "       [ 35900,   4025],\n",
       "       [ 41600,   4150],\n",
       "       [ 61000,   5625],\n",
       "       [ 52800,   5300],\n",
       "       [118500,   6350],\n",
       "       [ 21500,   5800],\n",
       "       [ 69200,   6325],\n",
       "       [105600,   8800],\n",
       "       [139000,   8400],\n",
       "       [ 76300,   5650],\n",
       "       [ 87600,   6800],\n",
       "       [ 21800,   4725],\n",
       "       [ 84100,   5575],\n",
       "       [ 35700,   3675],\n",
       "       [ 75400,   5775],\n",
       "       [125000,   7550],\n",
       "       [ 97100,   6525],\n",
       "       [ 45900,   4525],\n",
       "       [ 26600,   7925],\n",
       "       [ 54400,   8800],\n",
       "       [ 13600,   4100],\n",
       "       [ 58000,   5175],\n",
       "       [ 83700,   6350],\n",
       "       [ 32100,   6575],\n",
       "       [ 19000,   4375],\n",
       "       [ 85500,   5875],\n",
       "       [ 73600,   9250],\n",
       "       [ 99000,   6650],\n",
       "       [ 65700,   7775],\n",
       "       [ 23200,   3575],\n",
       "       [  3700,   7650],\n",
       "       [107200,   7825],\n",
       "       [ 73800,   8525],\n",
       "       [ 38400,   5700],\n",
       "       [ 26500,   8575],\n",
       "       [ 14400,   3975],\n",
       "       [ 16600,   4075],\n",
       "       [ 37900,   4925],\n",
       "       [ 51900,   4175],\n",
       "       [135500,   7075],\n",
       "       [ 70600,   7450],\n",
       "       [ 78600,   8575],\n",
       "       [ 34500,   3825],\n",
       "       [ 28500,   4850],\n",
       "       [ 27200,   6600],\n",
       "       [ 80400,   8350],\n",
       "       [ 15600,   7950],\n",
       "       [133700,   7725],\n",
       "       [ 55200,   6800],\n",
       "       [  6600,   3425],\n",
       "       [ 55700,   7725],\n",
       "       [ 29400,   4400],\n",
       "       [ 86100,   9175],\n",
       "       [  2000,   5250],\n",
       "       [  2900,   2650],\n",
       "       [ 38400,   6950],\n",
       "       [135600,   9575],\n",
       "       [ 78100,   7625],\n",
       "       [ 13600,   2600],\n",
       "       [ 14400,   7775],\n",
       "       [ 64200,   9125],\n",
       "       [ 83400,   8675],\n",
       "       [ 33600,   4500],\n",
       "       [ 61900,   5925],\n",
       "       [128500,   6800],\n",
       "       [116200,   9250],\n",
       "       [ 93000,   5750],\n",
       "       [ 66800,  10075],\n",
       "       [ 69400,   5375],\n",
       "       [ 98100,   5725],\n",
       "       [ 42000,   3250],\n",
       "       [  6600,   8475],\n",
       "       [ 97900,   7925],\n",
       "       [ 34700,   2675],\n",
       "       [ 56800,   9800],\n",
       "       [ 26400,   5300],\n",
       "       [ 53800,   4550],\n",
       "       [ 93600,   6325],\n",
       "       [ 76200,   5900],\n",
       "       [ 68000,   5500],\n",
       "       [ 45400,   4550],\n",
       "       [ 24900,   2725],\n",
       "       [ 17100,   3425],\n",
       "       [119700,   8225],\n",
       "       [     0,   6150],\n",
       "       [ 24300,   3225],\n",
       "       [ 48600,   6425],\n",
       "       [ 51600,   3725],\n",
       "       [ 59200,   3500],\n",
       "       [ 53500,   4375],\n",
       "       [     0,   6325],\n",
       "       [ 44800,   5200],\n",
       "       [ 49200,   4475],\n",
       "       [ 85900,   4875],\n",
       "       [ 52500,   6375],\n",
       "       [ 94000,   6525],\n",
       "       [  4400,   3100],\n",
       "       [ 38700,   8325],\n",
       "       [ 59400,   5850],\n",
       "       [ 75000,   8250],\n",
       "       [ 45800,   5675],\n",
       "       [ 31200,   5600],\n",
       "       [ 35300,   4075],\n",
       "       [ 38000,   3475],\n",
       "       [ 17100,   6275],\n",
       "       [ 32400,   4025],\n",
       "       [ 40400,   4450],\n",
       "       [ 70400,   6400],\n",
       "       [  2500,   4575],\n",
       "       [ 49200,   7025],\n",
       "       [115500,   6450],\n",
       "       [ 18800,   2950],\n",
       "       [ 41800,   4350],\n",
       "       [105700,   6325],\n",
       "       [ 17500,   5550],\n",
       "       [ 46400,   4175],\n",
       "       [ 31200,   3800],\n",
       "       [ 30500,   8950],\n",
       "       [ 37100,   4525],\n",
       "       [ 20700,   4050],\n",
       "       [ 37400,   4775],\n",
       "       [ 53600,   4575],\n",
       "       [ 95100,   7425],\n",
       "       [ 12400,   8075],\n",
       "       [ 28500,   6525],\n",
       "       [ 87500,   4950],\n",
       "       [ 29500,   6500],\n",
       "       [ 17300,   6325],\n",
       "       [ 39000,   6875],\n",
       "       [ 63500,   5175],\n",
       "       [ 27700,   8925],\n",
       "       [ 23300,   7825],\n",
       "       [ 53600,   5350],\n",
       "       [111800,   8075],\n",
       "       [ 55400,   5675],\n",
       "       [ 44700,   4750],\n",
       "       [ 72900,   6200],\n",
       "       [ 59700,   6975],\n",
       "       [124800,   9525],\n",
       "       [100700,   6675],\n",
       "       [136200,   9275],\n",
       "       [  4400,   4750],\n",
       "       [  3000,   7975],\n",
       "       [ 33300,   6225],\n",
       "       [ 20600,   2800],\n",
       "       [ 44700,   5450],\n",
       "       [ 10000,   2875],\n",
       "       [ 39200,   5975],\n",
       "       [ 75600,   6175],\n",
       "       [ 13200,   5325],\n",
       "       [ 96600,   7900],\n",
       "       [ 83700,   7675],\n",
       "       [ 34000,   4000],\n",
       "       [ 42000,   5500],\n",
       "       [ 47600,   4150]], dtype=int64)"
      ]
     },
     "execution_count": 4,
     "metadata": {},
     "output_type": "execute_result"
    }
   ],
   "source": [
    "X"
   ]
  },
  {
   "cell_type": "code",
   "execution_count": 6,
   "id": "3789d349",
   "metadata": {},
   "outputs": [],
   "source": [
    "from sklearn.cluster import KMeans"
   ]
  },
  {
   "cell_type": "code",
   "execution_count": 7,
   "id": "5b5f1fbb",
   "metadata": {},
   "outputs": [
    {
     "name": "stderr",
     "output_type": "stream",
     "text": [
      "C:\\Users\\alpnn\\AppData\\Local\\anaconda3\\envs\\alp\\lib\\site-packages\\sklearn\\cluster\\_kmeans.py:1412: FutureWarning: The default value of `n_init` will change from 10 to 'auto' in 1.4. Set the value of `n_init` explicitly to suppress the warning\n",
      "  super()._check_params_vs_input(X, default_n_init=10)\n"
     ]
    },
    {
     "data": {
      "text/html": [
       "<style>#sk-container-id-1 {color: black;}#sk-container-id-1 pre{padding: 0;}#sk-container-id-1 div.sk-toggleable {background-color: white;}#sk-container-id-1 label.sk-toggleable__label {cursor: pointer;display: block;width: 100%;margin-bottom: 0;padding: 0.3em;box-sizing: border-box;text-align: center;}#sk-container-id-1 label.sk-toggleable__label-arrow:before {content: \"▸\";float: left;margin-right: 0.25em;color: #696969;}#sk-container-id-1 label.sk-toggleable__label-arrow:hover:before {color: black;}#sk-container-id-1 div.sk-estimator:hover label.sk-toggleable__label-arrow:before {color: black;}#sk-container-id-1 div.sk-toggleable__content {max-height: 0;max-width: 0;overflow: hidden;text-align: left;background-color: #f0f8ff;}#sk-container-id-1 div.sk-toggleable__content pre {margin: 0.2em;color: black;border-radius: 0.25em;background-color: #f0f8ff;}#sk-container-id-1 input.sk-toggleable__control:checked~div.sk-toggleable__content {max-height: 200px;max-width: 100%;overflow: auto;}#sk-container-id-1 input.sk-toggleable__control:checked~label.sk-toggleable__label-arrow:before {content: \"▾\";}#sk-container-id-1 div.sk-estimator input.sk-toggleable__control:checked~label.sk-toggleable__label {background-color: #d4ebff;}#sk-container-id-1 div.sk-label input.sk-toggleable__control:checked~label.sk-toggleable__label {background-color: #d4ebff;}#sk-container-id-1 input.sk-hidden--visually {border: 0;clip: rect(1px 1px 1px 1px);clip: rect(1px, 1px, 1px, 1px);height: 1px;margin: -1px;overflow: hidden;padding: 0;position: absolute;width: 1px;}#sk-container-id-1 div.sk-estimator {font-family: monospace;background-color: #f0f8ff;border: 1px dotted black;border-radius: 0.25em;box-sizing: border-box;margin-bottom: 0.5em;}#sk-container-id-1 div.sk-estimator:hover {background-color: #d4ebff;}#sk-container-id-1 div.sk-parallel-item::after {content: \"\";width: 100%;border-bottom: 1px solid gray;flex-grow: 1;}#sk-container-id-1 div.sk-label:hover label.sk-toggleable__label {background-color: #d4ebff;}#sk-container-id-1 div.sk-serial::before {content: \"\";position: absolute;border-left: 1px solid gray;box-sizing: border-box;top: 0;bottom: 0;left: 50%;z-index: 0;}#sk-container-id-1 div.sk-serial {display: flex;flex-direction: column;align-items: center;background-color: white;padding-right: 0.2em;padding-left: 0.2em;position: relative;}#sk-container-id-1 div.sk-item {position: relative;z-index: 1;}#sk-container-id-1 div.sk-parallel {display: flex;align-items: stretch;justify-content: center;background-color: white;position: relative;}#sk-container-id-1 div.sk-item::before, #sk-container-id-1 div.sk-parallel-item::before {content: \"\";position: absolute;border-left: 1px solid gray;box-sizing: border-box;top: 0;bottom: 0;left: 50%;z-index: -1;}#sk-container-id-1 div.sk-parallel-item {display: flex;flex-direction: column;z-index: 1;position: relative;background-color: white;}#sk-container-id-1 div.sk-parallel-item:first-child::after {align-self: flex-end;width: 50%;}#sk-container-id-1 div.sk-parallel-item:last-child::after {align-self: flex-start;width: 50%;}#sk-container-id-1 div.sk-parallel-item:only-child::after {width: 0;}#sk-container-id-1 div.sk-dashed-wrapped {border: 1px dashed gray;margin: 0 0.4em 0.5em 0.4em;box-sizing: border-box;padding-bottom: 0.4em;background-color: white;}#sk-container-id-1 div.sk-label label {font-family: monospace;font-weight: bold;display: inline-block;line-height: 1.2em;}#sk-container-id-1 div.sk-label-container {text-align: center;}#sk-container-id-1 div.sk-container {/* jupyter's `normalize.less` sets `[hidden] { display: none; }` but bootstrap.min.css set `[hidden] { display: none !important; }` so we also need the `!important` here to be able to override the default hidden behavior on the sphinx rendered scikit-learn.org. See: https://github.com/scikit-learn/scikit-learn/issues/21755 */display: inline-block !important;position: relative;}#sk-container-id-1 div.sk-text-repr-fallback {display: none;}</style><div id=\"sk-container-id-1\" class=\"sk-top-container\"><div class=\"sk-text-repr-fallback\"><pre>KMeans(n_clusters=3)</pre><b>In a Jupyter environment, please rerun this cell to show the HTML representation or trust the notebook. <br />On GitHub, the HTML representation is unable to render, please try loading this page with nbviewer.org.</b></div><div class=\"sk-container\" hidden><div class=\"sk-item\"><div class=\"sk-estimator sk-toggleable\"><input class=\"sk-toggleable__control sk-hidden--visually\" id=\"sk-estimator-id-1\" type=\"checkbox\" checked><label for=\"sk-estimator-id-1\" class=\"sk-toggleable__label sk-toggleable__label-arrow\">KMeans</label><div class=\"sk-toggleable__content\"><pre>KMeans(n_clusters=3)</pre></div></div></div></div></div>"
      ],
      "text/plain": [
       "KMeans(n_clusters=3)"
      ]
     },
     "execution_count": 7,
     "metadata": {},
     "output_type": "execute_result"
    }
   ],
   "source": [
    "kmeans = KMeans(n_clusters=3,init='k-means++')\n",
    "kmeans.fit(X)"
   ]
  },
  {
   "cell_type": "code",
   "execution_count": 8,
   "id": "96681454",
   "metadata": {},
   "outputs": [
    {
     "data": {
      "text/plain": [
       "array([[ 59182.08955224,   5878.35820896],\n",
       "       [104386.95652174,   7289.13043478],\n",
       "       [ 22495.40229885,   5307.18390805]])"
      ]
     },
     "execution_count": 8,
     "metadata": {},
     "output_type": "execute_result"
    }
   ],
   "source": [
    "kmeans.cluster_centers_"
   ]
  },
  {
   "cell_type": "code",
   "execution_count": 9,
   "id": "1882e0d3",
   "metadata": {},
   "outputs": [],
   "source": [
    "sonuclar = []"
   ]
  },
  {
   "cell_type": "code",
   "execution_count": 10,
   "id": "cb08cc49",
   "metadata": {},
   "outputs": [
    {
     "name": "stderr",
     "output_type": "stream",
     "text": [
      "C:\\Users\\alpnn\\AppData\\Local\\anaconda3\\envs\\alp\\lib\\site-packages\\sklearn\\cluster\\_kmeans.py:1412: FutureWarning: The default value of `n_init` will change from 10 to 'auto' in 1.4. Set the value of `n_init` explicitly to suppress the warning\n",
      "  super()._check_params_vs_input(X, default_n_init=10)\n",
      "C:\\Users\\alpnn\\AppData\\Local\\anaconda3\\envs\\alp\\lib\\site-packages\\sklearn\\cluster\\_kmeans.py:1412: FutureWarning: The default value of `n_init` will change from 10 to 'auto' in 1.4. Set the value of `n_init` explicitly to suppress the warning\n",
      "  super()._check_params_vs_input(X, default_n_init=10)\n",
      "C:\\Users\\alpnn\\AppData\\Local\\anaconda3\\envs\\alp\\lib\\site-packages\\sklearn\\cluster\\_kmeans.py:1412: FutureWarning: The default value of `n_init` will change from 10 to 'auto' in 1.4. Set the value of `n_init` explicitly to suppress the warning\n",
      "  super()._check_params_vs_input(X, default_n_init=10)\n",
      "C:\\Users\\alpnn\\AppData\\Local\\anaconda3\\envs\\alp\\lib\\site-packages\\sklearn\\cluster\\_kmeans.py:1412: FutureWarning: The default value of `n_init` will change from 10 to 'auto' in 1.4. Set the value of `n_init` explicitly to suppress the warning\n",
      "  super()._check_params_vs_input(X, default_n_init=10)\n",
      "C:\\Users\\alpnn\\AppData\\Local\\anaconda3\\envs\\alp\\lib\\site-packages\\sklearn\\cluster\\_kmeans.py:1412: FutureWarning: The default value of `n_init` will change from 10 to 'auto' in 1.4. Set the value of `n_init` explicitly to suppress the warning\n",
      "  super()._check_params_vs_input(X, default_n_init=10)\n",
      "C:\\Users\\alpnn\\AppData\\Local\\anaconda3\\envs\\alp\\lib\\site-packages\\sklearn\\cluster\\_kmeans.py:1412: FutureWarning: The default value of `n_init` will change from 10 to 'auto' in 1.4. Set the value of `n_init` explicitly to suppress the warning\n",
      "  super()._check_params_vs_input(X, default_n_init=10)\n",
      "C:\\Users\\alpnn\\AppData\\Local\\anaconda3\\envs\\alp\\lib\\site-packages\\sklearn\\cluster\\_kmeans.py:1412: FutureWarning: The default value of `n_init` will change from 10 to 'auto' in 1.4. Set the value of `n_init` explicitly to suppress the warning\n",
      "  super()._check_params_vs_input(X, default_n_init=10)\n",
      "C:\\Users\\alpnn\\AppData\\Local\\anaconda3\\envs\\alp\\lib\\site-packages\\sklearn\\cluster\\_kmeans.py:1412: FutureWarning: The default value of `n_init` will change from 10 to 'auto' in 1.4. Set the value of `n_init` explicitly to suppress the warning\n",
      "  super()._check_params_vs_input(X, default_n_init=10)\n",
      "C:\\Users\\alpnn\\AppData\\Local\\anaconda3\\envs\\alp\\lib\\site-packages\\sklearn\\cluster\\_kmeans.py:1412: FutureWarning: The default value of `n_init` will change from 10 to 'auto' in 1.4. Set the value of `n_init` explicitly to suppress the warning\n",
      "  super()._check_params_vs_input(X, default_n_init=10)\n",
      "C:\\Users\\alpnn\\AppData\\Local\\anaconda3\\envs\\alp\\lib\\site-packages\\sklearn\\cluster\\_kmeans.py:1412: FutureWarning: The default value of `n_init` will change from 10 to 'auto' in 1.4. Set the value of `n_init` explicitly to suppress the warning\n",
      "  super()._check_params_vs_input(X, default_n_init=10)\n"
     ]
    },
    {
     "data": {
      "text/plain": [
       "[<matplotlib.lines.Line2D at 0x216d5475030>]"
      ]
     },
     "execution_count": 10,
     "metadata": {},
     "output_type": "execute_result"
    },
    {
     "data": {
      "image/png": "[encoded data removed]",
      "text/plain": [
       "<Figure size 640x480 with 1 Axes>"
      ]
     },
     "metadata": {},
     "output_type": "display_data"
    }
   ],
   "source": [
    "for i in range(1,11):\n",
    "    kmeans = KMeans(n_clusters=i,init='k-means++',random_state=123)\n",
    "    kmeans.fit(X)\n",
    "    sonuclar.append(kmeans.inertia_)\n",
    "plt.plot(range(1,11),sonuclar)    "
   ]
  },
  {
   "cell_type": "code",
   "execution_count": null,
   "id": "a4cd731e",
   "metadata": {},
   "outputs": [],
   "source": []
  }
 ],
 "metadata": {
  "kernelspec": {
   "display_name": "Python 3 (ipykernel)",
   "language": "python",
   "name": "python3"
  },
  "language_info": {
   "codemirror_mode": {
    "name": "ipython",
    "version": 3
   },
   "file_extension": ".py",
   "mimetype": "text/x-python",
   "name": "python",
   "nbconvert_exporter": "python",
   "pygments_lexer": "ipython3",
   "version": "3.10.12"
  }
 },
 "nbformat": 4,
 "nbformat_minor": 5
}
